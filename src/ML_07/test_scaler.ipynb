{
 "cells": [
  {
   "cell_type": "code",
   "id": "initial_id",
   "metadata": {
    "collapsed": true,
    "ExecuteTime": {
     "end_time": "2024-08-12T02:54:03.145251Z",
     "start_time": "2024-08-12T02:54:01.671100Z"
    }
   },
   "source": [
    "from sklearn.preprocessing import MinMaxScaler\n",
    "import pandas as pd"
   ],
   "outputs": [],
   "execution_count": 2
  },
  {
   "metadata": {},
   "cell_type": "markdown",
   "source": "当传入的是一个含有多列特征的 dataframe 时，MinMaxScaler 会**独立地**对每列进行缩放.换言之,每列特征特有一个缩放比例.",
   "id": "c40c640e855ed998"
  },
  {
   "metadata": {
    "ExecuteTime": {
     "end_time": "2024-08-12T02:54:17.004561Z",
     "start_time": "2024-08-12T02:54:16.983688Z"
    }
   },
   "cell_type": "code",
   "source": [
    "# 假设你有一个包含多列的 DataFrame\n",
    "df = pd.DataFrame({\n",
    "    'feature1': [1, 2, 3, 4, 5],\n",
    "    'feature2': [10, 20, 30, 40, 50],\n",
    "    'feature3': [100, 200, 300, 400, 500]\n",
    "})\n",
    "\n",
    "# 实例化 MinMaxScaler\n",
    "scaler = MinMaxScaler()\n",
    "\n",
    "# 应用 fit_transform\n",
    "scaled_df = scaler.fit_transform(df)\n",
    "\n",
    "# 由于 fit_transform 返回的是 NumPy 数组，我们可以将其转换回 DataFrame\n",
    "scaled_df = pd.DataFrame(scaled_df, columns=df.columns)\n",
    "\n",
    "print(scaled_df)"
   ],
   "id": "d638a765f5ac4015",
   "outputs": [
    {
     "name": "stdout",
     "output_type": "stream",
     "text": [
      "   feature1  feature2  feature3\n",
      "0      0.00      0.00      0.00\n",
      "1      0.25      0.25      0.25\n",
      "2      0.50      0.50      0.50\n",
      "3      0.75      0.75      0.75\n",
      "4      1.00      1.00      1.00\n"
     ]
    }
   ],
   "execution_count": 3
  },
  {
   "metadata": {},
   "cell_type": "code",
   "outputs": [],
   "execution_count": null,
   "source": "",
   "id": "4cfbc80a19a7b74b"
  }
 ],
 "metadata": {
  "kernelspec": {
   "display_name": "Python 3",
   "language": "python",
   "name": "python3"
  },
  "language_info": {
   "codemirror_mode": {
    "name": "ipython",
    "version": 2
   },
   "file_extension": ".py",
   "mimetype": "text/x-python",
   "name": "python",
   "nbconvert_exporter": "python",
   "pygments_lexer": "ipython2",
   "version": "2.7.6"
  }
 },
 "nbformat": 4,
 "nbformat_minor": 5
}
