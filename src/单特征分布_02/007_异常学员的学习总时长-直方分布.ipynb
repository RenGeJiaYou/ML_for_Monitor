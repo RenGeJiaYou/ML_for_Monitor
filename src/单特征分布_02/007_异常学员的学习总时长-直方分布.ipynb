{
 "cells": [
  {
   "cell_type": "code",
   "id": "initial_id",
   "metadata": {
    "collapsed": true,
    "ExecuteTime": {
     "end_time": "2024-08-14T01:34:57.526004Z",
     "start_time": "2024-08-14T01:34:57.508929Z"
    }
   },
   "source": [
    "import numpy as np\n",
    "import pandas as pd\n",
    "import matplotlib.pyplot as plt\n",
    "import seaborn as sns\n",
    "\n",
    "# 设置中文显示\n",
    "from pylab import mpl\n",
    "\n",
    "mpl.rcParams['font.sans-serif'] = ['Microsoft YaHei']  # 指定默认字体：解决plot不能显示中文问题\n",
    "mpl.rcParams['axes.unicode_minus'] = False  # 解决保存图像是负号'-'显示为方块的问题\n",
    "\n",
    "from sklearn.preprocessing import StandardScaler"
   ],
   "outputs": [],
   "execution_count": 7
  },
  {
   "metadata": {},
   "cell_type": "markdown",
   "source": "# 1. 读取数据",
   "id": "d9ae26189284a5db"
  },
  {
   "metadata": {
    "ExecuteTime": {
     "end_time": "2024-08-14T02:09:56.108644Z",
     "start_time": "2024-08-14T02:09:56.080646Z"
    }
   },
   "cell_type": "code",
   "source": [
    "# 读取csv 文件并指定数据类型呢\n",
    "file_path = '../../data/周一所获数据/所有学员的学习总时长ms.csv'\n",
    "sus_file_path = '../../data/各种来源的可疑ID（可作为标签）/使用可疑OPENID验证学员（去重）.csv'\n",
    "\n",
    "df = pd.read_csv(file_path, dtype={'trainingPersonId': 'string', 'totalDuration': 'float64'})\n",
    "sus_df = pd.read_csv(sus_file_path, dtype={'students': 'string'})\n",
    "# 查看数据\n",
    "sus_df.size"
   ],
   "id": "eb3eb3562837ac1e",
   "outputs": [
    {
     "data": {
      "text/plain": [
       "886"
      ]
     },
     "execution_count": 29,
     "metadata": {},
     "output_type": "execute_result"
    }
   ],
   "execution_count": 29
  },
  {
   "metadata": {},
   "cell_type": "markdown",
   "source": [
    "# 2. 数据清洗\n",
    "类型转换在读取 csv 文件时已经完成，这里不需要再次转换。\n",
    "### (1) 单位转换\n"
   ],
   "id": "379841c91110f203"
  },
  {
   "metadata": {
    "ExecuteTime": {
     "end_time": "2024-08-14T02:09:57.689203Z",
     "start_time": "2024-08-14T02:09:57.669198Z"
    }
   },
   "cell_type": "code",
   "source": [
    "# 将毫秒转换为分钟\n",
    "df['totalDuration'] = df['totalDuration'] / 1000 / 60 / 60"
   ],
   "id": "db12c0d037b418c3",
   "outputs": [],
   "execution_count": 30
  },
  {
   "metadata": {
    "ExecuteTime": {
     "end_time": "2024-08-14T02:13:14.410410Z",
     "start_time": "2024-08-14T02:13:14.390379Z"
    }
   },
   "cell_type": "code",
   "source": "df",
   "id": "3d22a60077b401dc",
   "outputs": [
    {
     "data": {
      "text/plain": [
       "                       trainingPersonId  totalDuration\n",
       "0      a8d382bb10a811ec8871b07b25146e9e       0.295228\n",
       "1      e5c73781693211ecb369fa164011f743       0.353920\n",
       "2      957f362610ac11ec8871b07b25146e9e       1.072133\n",
       "3      d8c6a5d610a711ec8871b07b25146e9e       1.130927\n",
       "4      222af8bb10bf11ec8216b07b25146e9e       1.146545\n",
       "...                                 ...            ...\n",
       "11325  62bea9c266e311ecb369fa164011f743      94.286148\n",
       "11326  55ca4c5910c611ec8216b07b25146e9e       3.014251\n",
       "11327  6571d4d510ca11ec8216b07b25146e9e       5.725706\n",
       "11328  2e77118e10ac11ec8871b07b25146e9e       1.661742\n",
       "11329  dddfd01410a711ec8871b07b25146e9e      95.800909\n",
       "\n",
       "[11330 rows x 2 columns]"
      ],
      "text/html": [
       "<div>\n",
       "<style scoped>\n",
       "    .dataframe tbody tr th:only-of-type {\n",
       "        vertical-align: middle;\n",
       "    }\n",
       "\n",
       "    .dataframe tbody tr th {\n",
       "        vertical-align: top;\n",
       "    }\n",
       "\n",
       "    .dataframe thead th {\n",
       "        text-align: right;\n",
       "    }\n",
       "</style>\n",
       "<table border=\"1\" class=\"dataframe\">\n",
       "  <thead>\n",
       "    <tr style=\"text-align: right;\">\n",
       "      <th></th>\n",
       "      <th>trainingPersonId</th>\n",
       "      <th>totalDuration</th>\n",
       "    </tr>\n",
       "  </thead>\n",
       "  <tbody>\n",
       "    <tr>\n",
       "      <th>0</th>\n",
       "      <td>a8d382bb10a811ec8871b07b25146e9e</td>\n",
       "      <td>0.295228</td>\n",
       "    </tr>\n",
       "    <tr>\n",
       "      <th>1</th>\n",
       "      <td>e5c73781693211ecb369fa164011f743</td>\n",
       "      <td>0.353920</td>\n",
       "    </tr>\n",
       "    <tr>\n",
       "      <th>2</th>\n",
       "      <td>957f362610ac11ec8871b07b25146e9e</td>\n",
       "      <td>1.072133</td>\n",
       "    </tr>\n",
       "    <tr>\n",
       "      <th>3</th>\n",
       "      <td>d8c6a5d610a711ec8871b07b25146e9e</td>\n",
       "      <td>1.130927</td>\n",
       "    </tr>\n",
       "    <tr>\n",
       "      <th>4</th>\n",
       "      <td>222af8bb10bf11ec8216b07b25146e9e</td>\n",
       "      <td>1.146545</td>\n",
       "    </tr>\n",
       "    <tr>\n",
       "      <th>...</th>\n",
       "      <td>...</td>\n",
       "      <td>...</td>\n",
       "    </tr>\n",
       "    <tr>\n",
       "      <th>11325</th>\n",
       "      <td>62bea9c266e311ecb369fa164011f743</td>\n",
       "      <td>94.286148</td>\n",
       "    </tr>\n",
       "    <tr>\n",
       "      <th>11326</th>\n",
       "      <td>55ca4c5910c611ec8216b07b25146e9e</td>\n",
       "      <td>3.014251</td>\n",
       "    </tr>\n",
       "    <tr>\n",
       "      <th>11327</th>\n",
       "      <td>6571d4d510ca11ec8216b07b25146e9e</td>\n",
       "      <td>5.725706</td>\n",
       "    </tr>\n",
       "    <tr>\n",
       "      <th>11328</th>\n",
       "      <td>2e77118e10ac11ec8871b07b25146e9e</td>\n",
       "      <td>1.661742</td>\n",
       "    </tr>\n",
       "    <tr>\n",
       "      <th>11329</th>\n",
       "      <td>dddfd01410a711ec8871b07b25146e9e</td>\n",
       "      <td>95.800909</td>\n",
       "    </tr>\n",
       "  </tbody>\n",
       "</table>\n",
       "<p>11330 rows × 2 columns</p>\n",
       "</div>"
      ]
     },
     "execution_count": 37,
     "metadata": {},
     "output_type": "execute_result"
    }
   ],
   "execution_count": 37
  },
  {
   "metadata": {},
   "cell_type": "markdown",
   "source": "### (2) filter 出异常用户所在的列",
   "id": "c29858311c2b15b7"
  },
  {
   "metadata": {
    "ExecuteTime": {
     "end_time": "2024-08-14T02:13:00.979264Z",
     "start_time": "2024-08-14T02:13:00.952261Z"
    }
   },
   "cell_type": "code",
   "source": [
    "sus_duration = pd.merge(sus_df, df, left_on='students', right_on=\"trainingPersonId\", how=\"inner\")\n",
    "sus_duration"
   ],
   "id": "f10197988329db54",
   "outputs": [
    {
     "data": {
      "text/plain": [
       "                             students                  trainingPersonId  \\\n",
       "0    3744b0c410a811ec8871b07b25146e9e  3744b0c410a811ec8871b07b25146e9e   \n",
       "1    92df012010cb11ec8216b07b25146e9e  92df012010cb11ec8216b07b25146e9e   \n",
       "2    856fbac210ab11ec8871b07b25146e9e  856fbac210ab11ec8871b07b25146e9e   \n",
       "3    0649a8f310c411ec8216b07b25146e9e  0649a8f310c411ec8216b07b25146e9e   \n",
       "4    6392e9b510cb11ec8216b07b25146e9e  6392e9b510cb11ec8216b07b25146e9e   \n",
       "..                                ...                               ...   \n",
       "880  3c4976ae10a811ec8871b07b25146e9e  3c4976ae10a811ec8871b07b25146e9e   \n",
       "881  41a6ef6410ca11ec8216b07b25146e9e  41a6ef6410ca11ec8216b07b25146e9e   \n",
       "882  439287f210a911ec8871b07b25146e9e  439287f210a911ec8871b07b25146e9e   \n",
       "883  6614495110a811ec8871b07b25146e9e  6614495110a811ec8871b07b25146e9e   \n",
       "884  7b163c76492a11eda93afa164011f743  7b163c76492a11eda93afa164011f743   \n",
       "\n",
       "     totalDuration  \n",
       "0        62.184127  \n",
       "1        73.975949  \n",
       "2        47.734951  \n",
       "3        37.186102  \n",
       "4         4.279658  \n",
       "..             ...  \n",
       "880      31.907614  \n",
       "881      46.996894  \n",
       "882      49.156065  \n",
       "883      43.699233  \n",
       "884      37.552042  \n",
       "\n",
       "[885 rows x 3 columns]"
      ],
      "text/html": [
       "<div>\n",
       "<style scoped>\n",
       "    .dataframe tbody tr th:only-of-type {\n",
       "        vertical-align: middle;\n",
       "    }\n",
       "\n",
       "    .dataframe tbody tr th {\n",
       "        vertical-align: top;\n",
       "    }\n",
       "\n",
       "    .dataframe thead th {\n",
       "        text-align: right;\n",
       "    }\n",
       "</style>\n",
       "<table border=\"1\" class=\"dataframe\">\n",
       "  <thead>\n",
       "    <tr style=\"text-align: right;\">\n",
       "      <th></th>\n",
       "      <th>students</th>\n",
       "      <th>trainingPersonId</th>\n",
       "      <th>totalDuration</th>\n",
       "    </tr>\n",
       "  </thead>\n",
       "  <tbody>\n",
       "    <tr>\n",
       "      <th>0</th>\n",
       "      <td>3744b0c410a811ec8871b07b25146e9e</td>\n",
       "      <td>3744b0c410a811ec8871b07b25146e9e</td>\n",
       "      <td>62.184127</td>\n",
       "    </tr>\n",
       "    <tr>\n",
       "      <th>1</th>\n",
       "      <td>92df012010cb11ec8216b07b25146e9e</td>\n",
       "      <td>92df012010cb11ec8216b07b25146e9e</td>\n",
       "      <td>73.975949</td>\n",
       "    </tr>\n",
       "    <tr>\n",
       "      <th>2</th>\n",
       "      <td>856fbac210ab11ec8871b07b25146e9e</td>\n",
       "      <td>856fbac210ab11ec8871b07b25146e9e</td>\n",
       "      <td>47.734951</td>\n",
       "    </tr>\n",
       "    <tr>\n",
       "      <th>3</th>\n",
       "      <td>0649a8f310c411ec8216b07b25146e9e</td>\n",
       "      <td>0649a8f310c411ec8216b07b25146e9e</td>\n",
       "      <td>37.186102</td>\n",
       "    </tr>\n",
       "    <tr>\n",
       "      <th>4</th>\n",
       "      <td>6392e9b510cb11ec8216b07b25146e9e</td>\n",
       "      <td>6392e9b510cb11ec8216b07b25146e9e</td>\n",
       "      <td>4.279658</td>\n",
       "    </tr>\n",
       "    <tr>\n",
       "      <th>...</th>\n",
       "      <td>...</td>\n",
       "      <td>...</td>\n",
       "      <td>...</td>\n",
       "    </tr>\n",
       "    <tr>\n",
       "      <th>880</th>\n",
       "      <td>3c4976ae10a811ec8871b07b25146e9e</td>\n",
       "      <td>3c4976ae10a811ec8871b07b25146e9e</td>\n",
       "      <td>31.907614</td>\n",
       "    </tr>\n",
       "    <tr>\n",
       "      <th>881</th>\n",
       "      <td>41a6ef6410ca11ec8216b07b25146e9e</td>\n",
       "      <td>41a6ef6410ca11ec8216b07b25146e9e</td>\n",
       "      <td>46.996894</td>\n",
       "    </tr>\n",
       "    <tr>\n",
       "      <th>882</th>\n",
       "      <td>439287f210a911ec8871b07b25146e9e</td>\n",
       "      <td>439287f210a911ec8871b07b25146e9e</td>\n",
       "      <td>49.156065</td>\n",
       "    </tr>\n",
       "    <tr>\n",
       "      <th>883</th>\n",
       "      <td>6614495110a811ec8871b07b25146e9e</td>\n",
       "      <td>6614495110a811ec8871b07b25146e9e</td>\n",
       "      <td>43.699233</td>\n",
       "    </tr>\n",
       "    <tr>\n",
       "      <th>884</th>\n",
       "      <td>7b163c76492a11eda93afa164011f743</td>\n",
       "      <td>7b163c76492a11eda93afa164011f743</td>\n",
       "      <td>37.552042</td>\n",
       "    </tr>\n",
       "  </tbody>\n",
       "</table>\n",
       "<p>885 rows × 3 columns</p>\n",
       "</div>"
      ]
     },
     "execution_count": 36,
     "metadata": {},
     "output_type": "execute_result"
    }
   ],
   "execution_count": 36
  },
  {
   "metadata": {},
   "cell_type": "markdown",
   "source": "### 绘制概率密度直方图",
   "id": "e0dfbcad78ae8682"
  },
  {
   "metadata": {
    "ExecuteTime": {
     "end_time": "2024-08-14T02:11:48.797109Z",
     "start_time": "2024-08-14T02:11:46.766606Z"
    }
   },
   "cell_type": "code",
   "source": [
    "plt.hist(sus_duration['totalDuration'], density=True, bins=100)\n",
    "\n",
    "sns.kdeplot(sus_duration['totalDuration'], label='密度图')\n",
    "\n",
    "plt.title(\"可疑学员:不同时长学习的人数占比(100条直方)\")\n",
    "plt.xlabel('totalDuration/小时')\n",
    "plt.ylabel('学习了该时长的人数占总比')\n",
    "\n",
    "plt.savefig('../../imgs/可疑学员的学习时长-概率分布图.png', dpi=800, bbox_inches='tight', pad_inches=1)\n",
    "plt.show()"
   ],
   "id": "e96aad8392f12eb6",
   "outputs": [
    {
     "data": {
      "text/plain": [
       "<Figure size 640x480 with 1 Axes>"
      ],
      "image/png": "[encoded data removed]"
     },
     "metadata": {},
     "output_type": "display_data"
    }
   ],
   "execution_count": 35
  },
  {
   "metadata": {},
   "cell_type": "code",
   "outputs": [],
   "execution_count": null,
   "source": "",
   "id": "491d5eca00cfdc73"
  }
 ],
 "metadata": {
  "kernelspec": {
   "display_name": "Python 3",
   "language": "python",
   "name": "python3"
  },
  "language_info": {
   "codemirror_mode": {
    "name": "ipython",
    "version": 2
   },
   "file_extension": ".py",
   "mimetype": "text/x-python",
   "name": "python",
   "nbconvert_exporter": "python",
   "pygments_lexer": "ipython2",
   "version": "2.7.6"
  }
 },
 "nbformat": 4,
 "nbformat_minor": 5
}
