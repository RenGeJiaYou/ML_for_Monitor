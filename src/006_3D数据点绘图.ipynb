{
 "cells": [
  {
   "metadata": {},
   "cell_type": "markdown",
   "source": "# Part Ⅱ:3D 数据点绘图",
   "id": "b91119b7a5111afb"
  },
  {
   "metadata": {
    "ExecuteTime": {
     "end_time": "2024-07-29T02:54:26.057184Z",
     "start_time": "2024-07-29T02:54:25.977183Z"
    }
   },
   "cell_type": "code",
   "source": [
    "# 读取数据\n",
    "df = pd.read_csv('../data/学习行为.csv')"
   ],
   "id": "f2860253307efa24",
   "outputs": [],
   "execution_count": 8
  },
  {
   "metadata": {},
   "cell_type": "code",
   "outputs": [],
   "execution_count": null,
   "source": [
    "# 创建 3D 绘图\n",
    "fig = plt.figure()\n",
    "ax = fig.add_subplot(111, projection='3d')\n",
    "\n",
    "# 假设数据有三列：'x', 'y', 'z'\n",
    "x = df['basicFactData.datavalue.coursePeriod']\n",
    "y = df['basicFactData.datavalue.timeLength'] / 1000\n",
    "z = df['z']\n",
    "\n",
    "# 绘制数据点\n",
    "ax.scatter(x, y, z)\n",
    "\n",
    "# 设置轴标签\n",
    "ax.set_xlabel('X Label')\n",
    "ax.set_ylabel('Y Label')\n",
    "ax.set_zlabel('Z Label')\n",
    "\n",
    "# 显示图形\n",
    "plt.show()"
   ],
   "id": "a60c9178d2cfdf63"
  }
 ],
 "metadata": {
  "kernelspec": {
   "display_name": "Python 3",
   "language": "python",
   "name": "python3"
  },
  "language_info": {
   "codemirror_mode": {
    "name": "ipython",
    "version": 2
   },
   "file_extension": ".py",
   "mimetype": "text/x-python",
   "name": "python",
   "nbconvert_exporter": "python",
   "pygments_lexer": "ipython2",
   "version": "2.7.6"
  }
 },
 "nbformat": 4,
 "nbformat_minor": 5
}
