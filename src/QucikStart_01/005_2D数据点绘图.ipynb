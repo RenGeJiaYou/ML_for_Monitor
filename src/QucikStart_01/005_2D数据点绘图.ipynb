{
 "cells": [
  {
   "metadata": {},
   "cell_type": "markdown",
   "source": "# Part Ⅰ:2D 数据点绘图",
   "id": "e31281efda4ffc42"
  },
  {
   "metadata": {},
   "cell_type": "markdown",
   "source": "## 一、导包&导入数据",
   "id": "38cc4299e7df6406"
  },
  {
   "metadata": {
    "ExecuteTime": {
     "end_time": "2024-07-29T06:45:45.665650Z",
     "start_time": "2024-07-29T06:45:45.644652Z"
    }
   },
   "cell_type": "code",
   "source": [
    "import matplotlib.pyplot as plt\n",
    "import numpy as np\n",
    "import pandas as pd\n",
    "from mpl_toolkits.mplot3d import Axes3D"
   ],
   "id": "7b78cdc60c7909b5",
   "outputs": [],
   "execution_count": 51
  },
  {
   "metadata": {
    "ExecuteTime": {
     "end_time": "2024-07-30T07:20:58.953432Z",
     "start_time": "2024-07-30T07:20:58.488866Z"
    }
   },
   "cell_type": "code",
   "source": [
    "df = pd.read_csv('../data/学习行为.csv')\n",
    "# df.head()\n",
    "# df.shape\n",
    "# df.info\n",
    "df.dtypes\n",
    "# df.columns"
   ],
   "id": "1fe79aa863ca6f2a",
   "outputs": [
    {
     "data": {
      "text/plain": [
       "_id                                                   object\n",
       "basicFactData.basicFactDataId                         object\n",
       "basicFactData.createTimeDate                          object\n",
       "basicFactData.dataValue.activityDateList              object\n",
       "basicFactData.dataValue.code                           int64\n",
       "                                                       ...  \n",
       "supervisionOnlineCourseBehaviorExt.timeLength          int64\n",
       "supervisionOnlineCourseBehaviorExt.totalTimeLength     int64\n",
       "updateTime                                            object\n",
       "userIdentifier                                        object\n",
       "userSupervisionFactId                                 object\n",
       "Length: 121, dtype: object"
      ]
     },
     "execution_count": 72,
     "metadata": {},
     "output_type": "execute_result"
    }
   ],
   "execution_count": 72
  },
  {
   "metadata": {},
   "cell_type": "markdown",
   "source": [
    "## 二、学习行为-数据预处理\n",
    "### 2-1 转换值类型:将被误判为 object 类型的日期时间列转换为 datetime64"
   ],
   "id": "961041b672502663"
  },
  {
   "metadata": {
    "ExecuteTime": {
     "end_time": "2024-07-29T06:51:45.504722Z",
     "start_time": "2024-07-29T06:51:45.431862Z"
    }
   },
   "cell_type": "code",
   "source": [
    "time_col = [col for col in df.columns if 'Time' in col]\n",
    "for col in time_col:\n",
    "    df[col] = pd.to_datetime(df[col])\n",
    "\n",
    "df.dtypes\n",
    "# df.columns"
   ],
   "id": "a476ae93b4157177",
   "outputs": [
    {
     "data": {
      "text/plain": [
       "_id                                                                object\n",
       "basicFactData.basicFactDataId                                      object\n",
       "basicFactData.createTimeDate                          datetime64[ns, UTC]\n",
       "basicFactData.dataValue.activityDateList                           object\n",
       "basicFactData.dataValue.code                                        int64\n",
       "                                                             ...         \n",
       "supervisionOnlineCourseBehaviorExt.timeLength                       int64\n",
       "supervisionOnlineCourseBehaviorExt.totalTimeLength         datetime64[ns]\n",
       "updateTime                                            datetime64[ns, UTC]\n",
       "userIdentifier                                                     object\n",
       "userSupervisionFactId                                              object\n",
       "Length: 121, dtype: object"
      ]
     },
     "execution_count": 56,
     "metadata": {},
     "output_type": "execute_result"
    }
   ],
   "execution_count": 56
  },
  {
   "metadata": {},
   "cell_type": "markdown",
   "source": [
    "### 2-2 抽取部分特征:只要数值型+日期数据\n",
    "Pandas 提供了`select_dtypes()` 可以方便地选择特定数据类型的列。"
   ],
   "id": "82fb42e0e0c3094d"
  },
  {
   "metadata": {
    "ExecuteTime": {
     "end_time": "2024-07-29T07:05:45.377649Z",
     "start_time": "2024-07-29T07:05:45.338620Z"
    }
   },
   "cell_type": "code",
   "source": [
    "# 包含数值+日期\n",
    "feature_df = df.select_dtypes(exclude=['object'])\n",
    "# 只有数值\n",
    "number_df = df.select_dtypes(include=['number'])\n",
    "\n",
    "complete_df = pd.concat([df['_id'], feature_df], axis=1)\n",
    "only_number_df = pd.concat([df['_id'], number_df], axis=1)\n",
    "\n",
    "complete_df.head()"
   ],
   "id": "9f6b0917ddee28b3",
   "outputs": [
    {
     "data": {
      "text/plain": [
       "                                _id     basicFactData.createTimeDate  \\\n",
       "0  2c9082b990642dcb019070cf5fd545a6 2024-07-05 04:25:09.879000+00:00   \n",
       "1  2c9082b990642dcb019070e51ca84a88 2024-07-05 04:25:29.355000+00:00   \n",
       "2  2c9082ce9064171c01906d21705217f1 2024-07-05 04:21:30.509000+00:00   \n",
       "3  2c9082b990642dcb01907137df9e5ec8 2024-07-05 04:27:11.560000+00:00   \n",
       "4  2c9082ce9064171c019070cb416e3d9f 2024-07-05 04:25:06.572000+00:00   \n",
       "\n",
       "   basicFactData.dataValue.code  basicFactData.dataValue.coursePeriod  \\\n",
       "0                           200                                   5.3   \n",
       "1                           200                                   5.3   \n",
       "2                           200                                  10.0   \n",
       "3                           200                                   2.4   \n",
       "4                           200                                  10.0   \n",
       "\n",
       "   basicFactData.dataValue.effective  basicFactData.dataValue.idCardType  \\\n",
       "0                               True                                   0   \n",
       "1                               True                                   0   \n",
       "2                               True                                   0   \n",
       "3                               True                                   0   \n",
       "4                               True                                   0   \n",
       "\n",
       "   basicFactData.dataValue.timeLength     basicFactData.updateTimeDate  \\\n",
       "0                               15900 2024-07-05 04:25:09.879000+00:00   \n",
       "1                               15900 2024-07-05 04:25:29.355000+00:00   \n",
       "2                               30000 2024-07-05 04:21:30.509000+00:00   \n",
       "3                                7200 2024-07-05 04:27:11.560000+00:00   \n",
       "4                               30000 2024-07-05 04:25:06.572000+00:00   \n",
       "\n",
       "  behaviorInterruptRecoveryRecord.0.interruptRecoveryTime  \\\n",
       "0                   2024-07-02 00:19:17.045000+00:00        \n",
       "1                   2024-07-02 00:43:01.652000+00:00        \n",
       "2                   2024-07-01 07:10:26.374000+00:00        \n",
       "3                   2024-07-02 02:13:25.521000+00:00        \n",
       "4                   2024-07-02 00:14:47.118000+00:00        \n",
       "\n",
       "   behaviorInterruptRecoveryRecord.0.interruptRecoveryType  ...  \\\n",
       "0                                                  0        ...   \n",
       "1                                                  0        ...   \n",
       "2                                                  0        ...   \n",
       "3                                                  0        ...   \n",
       "4                                                  0        ...   \n",
       "\n",
       "                           endTime  isValid owner.unitId  \\\n",
       "0 2024-07-02 00:34:38.868000+00:00        1           -1   \n",
       "1 2024-07-02 01:42:38.868000+00:00        1           -1   \n",
       "2 2024-07-01 08:12:20.970000+00:00        1           -1   \n",
       "3 2024-07-02 02:25:11.447000+00:00        1           -1   \n",
       "4 2024-07-02 05:38:40.971000+00:00        1           -1   \n",
       "\n",
       "                         startTime status  supervisionBehaviorType  \\\n",
       "0 2024-07-02 00:19:17.045000+00:00      3                        1   \n",
       "1 2024-07-02 00:43:01.652000+00:00      3                        1   \n",
       "2 2024-07-01 07:10:26.374000+00:00      3                        1   \n",
       "3 2024-07-02 02:13:25.521000+00:00      3                        1   \n",
       "4 2024-07-02 00:14:47.118000+00:00      3                        1   \n",
       "\n",
       "  supervisionOnlineCourseBehaviorExt.accumulateTime  \\\n",
       "0                                               NaT   \n",
       "1                                               NaT   \n",
       "2                                               NaT   \n",
       "3                                               NaT   \n",
       "4                                               NaT   \n",
       "\n",
       "   supervisionOnlineCourseBehaviorExt.timeLength  \\\n",
       "0                                            442   \n",
       "1                                           2533   \n",
       "2                                           2165   \n",
       "3                                            550   \n",
       "4                                          11579   \n",
       "\n",
       "  supervisionOnlineCourseBehaviorExt.totalTimeLength  \\\n",
       "0                                         1970-01-01   \n",
       "1                                         1970-01-01   \n",
       "2                                         1970-01-01   \n",
       "3                                         1970-01-01   \n",
       "4                                         1970-01-01   \n",
       "\n",
       "                        updateTime  \n",
       "0 2024-07-05 04:25:22.024000+00:00  \n",
       "1 2024-07-05 04:26:29.711000+00:00  \n",
       "2 2024-07-05 04:22:11.562000+00:00  \n",
       "3 2024-07-05 04:27:27.114000+00:00  \n",
       "4 2024-07-05 04:31:15.586000+00:00  \n",
       "\n",
       "[5 rows x 75 columns]"
      ],
      "text/html": [
       "<div>\n",
       "<style scoped>\n",
       "    .dataframe tbody tr th:only-of-type {\n",
       "        vertical-align: middle;\n",
       "    }\n",
       "\n",
       "    .dataframe tbody tr th {\n",
       "        vertical-align: top;\n",
       "    }\n",
       "\n",
       "    .dataframe thead th {\n",
       "        text-align: right;\n",
       "    }\n",
       "</style>\n",
       "<table border=\"1\" class=\"dataframe\">\n",
       "  <thead>\n",
       "    <tr style=\"text-align: right;\">\n",
       "      <th></th>\n",
       "      <th>_id</th>\n",
       "      <th>basicFactData.createTimeDate</th>\n",
       "      <th>basicFactData.dataValue.code</th>\n",
       "      <th>basicFactData.dataValue.coursePeriod</th>\n",
       "      <th>basicFactData.dataValue.effective</th>\n",
       "      <th>basicFactData.dataValue.idCardType</th>\n",
       "      <th>basicFactData.dataValue.timeLength</th>\n",
       "      <th>basicFactData.updateTimeDate</th>\n",
       "      <th>behaviorInterruptRecoveryRecord.0.interruptRecoveryTime</th>\n",
       "      <th>behaviorInterruptRecoveryRecord.0.interruptRecoveryType</th>\n",
       "      <th>...</th>\n",
       "      <th>endTime</th>\n",
       "      <th>isValid</th>\n",
       "      <th>owner.unitId</th>\n",
       "      <th>startTime</th>\n",
       "      <th>status</th>\n",
       "      <th>supervisionBehaviorType</th>\n",
       "      <th>supervisionOnlineCourseBehaviorExt.accumulateTime</th>\n",
       "      <th>supervisionOnlineCourseBehaviorExt.timeLength</th>\n",
       "      <th>supervisionOnlineCourseBehaviorExt.totalTimeLength</th>\n",
       "      <th>updateTime</th>\n",
       "    </tr>\n",
       "  </thead>\n",
       "  <tbody>\n",
       "    <tr>\n",
       "      <th>0</th>\n",
       "      <td>2c9082b990642dcb019070cf5fd545a6</td>\n",
       "      <td>2024-07-05 04:25:09.879000+00:00</td>\n",
       "      <td>200</td>\n",
       "      <td>5.3</td>\n",
       "      <td>True</td>\n",
       "      <td>0</td>\n",
       "      <td>15900</td>\n",
       "      <td>2024-07-05 04:25:09.879000+00:00</td>\n",
       "      <td>2024-07-02 00:19:17.045000+00:00</td>\n",
       "      <td>0</td>\n",
       "      <td>...</td>\n",
       "      <td>2024-07-02 00:34:38.868000+00:00</td>\n",
       "      <td>1</td>\n",
       "      <td>-1</td>\n",
       "      <td>2024-07-02 00:19:17.045000+00:00</td>\n",
       "      <td>3</td>\n",
       "      <td>1</td>\n",
       "      <td>NaT</td>\n",
       "      <td>442</td>\n",
       "      <td>1970-01-01</td>\n",
       "      <td>2024-07-05 04:25:22.024000+00:00</td>\n",
       "    </tr>\n",
       "    <tr>\n",
       "      <th>1</th>\n",
       "      <td>2c9082b990642dcb019070e51ca84a88</td>\n",
       "      <td>2024-07-05 04:25:29.355000+00:00</td>\n",
       "      <td>200</td>\n",
       "      <td>5.3</td>\n",
       "      <td>True</td>\n",
       "      <td>0</td>\n",
       "      <td>15900</td>\n",
       "      <td>2024-07-05 04:25:29.355000+00:00</td>\n",
       "      <td>2024-07-02 00:43:01.652000+00:00</td>\n",
       "      <td>0</td>\n",
       "      <td>...</td>\n",
       "      <td>2024-07-02 01:42:38.868000+00:00</td>\n",
       "      <td>1</td>\n",
       "      <td>-1</td>\n",
       "      <td>2024-07-02 00:43:01.652000+00:00</td>\n",
       "      <td>3</td>\n",
       "      <td>1</td>\n",
       "      <td>NaT</td>\n",
       "      <td>2533</td>\n",
       "      <td>1970-01-01</td>\n",
       "      <td>2024-07-05 04:26:29.711000+00:00</td>\n",
       "    </tr>\n",
       "    <tr>\n",
       "      <th>2</th>\n",
       "      <td>2c9082ce9064171c01906d21705217f1</td>\n",
       "      <td>2024-07-05 04:21:30.509000+00:00</td>\n",
       "      <td>200</td>\n",
       "      <td>10.0</td>\n",
       "      <td>True</td>\n",
       "      <td>0</td>\n",
       "      <td>30000</td>\n",
       "      <td>2024-07-05 04:21:30.509000+00:00</td>\n",
       "      <td>2024-07-01 07:10:26.374000+00:00</td>\n",
       "      <td>0</td>\n",
       "      <td>...</td>\n",
       "      <td>2024-07-01 08:12:20.970000+00:00</td>\n",
       "      <td>1</td>\n",
       "      <td>-1</td>\n",
       "      <td>2024-07-01 07:10:26.374000+00:00</td>\n",
       "      <td>3</td>\n",
       "      <td>1</td>\n",
       "      <td>NaT</td>\n",
       "      <td>2165</td>\n",
       "      <td>1970-01-01</td>\n",
       "      <td>2024-07-05 04:22:11.562000+00:00</td>\n",
       "    </tr>\n",
       "    <tr>\n",
       "      <th>3</th>\n",
       "      <td>2c9082b990642dcb01907137df9e5ec8</td>\n",
       "      <td>2024-07-05 04:27:11.560000+00:00</td>\n",
       "      <td>200</td>\n",
       "      <td>2.4</td>\n",
       "      <td>True</td>\n",
       "      <td>0</td>\n",
       "      <td>7200</td>\n",
       "      <td>2024-07-05 04:27:11.560000+00:00</td>\n",
       "      <td>2024-07-02 02:13:25.521000+00:00</td>\n",
       "      <td>0</td>\n",
       "      <td>...</td>\n",
       "      <td>2024-07-02 02:25:11.447000+00:00</td>\n",
       "      <td>1</td>\n",
       "      <td>-1</td>\n",
       "      <td>2024-07-02 02:13:25.521000+00:00</td>\n",
       "      <td>3</td>\n",
       "      <td>1</td>\n",
       "      <td>NaT</td>\n",
       "      <td>550</td>\n",
       "      <td>1970-01-01</td>\n",
       "      <td>2024-07-05 04:27:27.114000+00:00</td>\n",
       "    </tr>\n",
       "    <tr>\n",
       "      <th>4</th>\n",
       "      <td>2c9082ce9064171c019070cb416e3d9f</td>\n",
       "      <td>2024-07-05 04:25:06.572000+00:00</td>\n",
       "      <td>200</td>\n",
       "      <td>10.0</td>\n",
       "      <td>True</td>\n",
       "      <td>0</td>\n",
       "      <td>30000</td>\n",
       "      <td>2024-07-05 04:25:06.572000+00:00</td>\n",
       "      <td>2024-07-02 00:14:47.118000+00:00</td>\n",
       "      <td>0</td>\n",
       "      <td>...</td>\n",
       "      <td>2024-07-02 05:38:40.971000+00:00</td>\n",
       "      <td>1</td>\n",
       "      <td>-1</td>\n",
       "      <td>2024-07-02 00:14:47.118000+00:00</td>\n",
       "      <td>3</td>\n",
       "      <td>1</td>\n",
       "      <td>NaT</td>\n",
       "      <td>11579</td>\n",
       "      <td>1970-01-01</td>\n",
       "      <td>2024-07-05 04:31:15.586000+00:00</td>\n",
       "    </tr>\n",
       "  </tbody>\n",
       "</table>\n",
       "<p>5 rows × 75 columns</p>\n",
       "</div>"
      ]
     },
     "execution_count": 64,
     "metadata": {},
     "output_type": "execute_result"
    }
   ],
   "execution_count": 64
  },
  {
   "metadata": {},
   "cell_type": "markdown",
   "source": [
    "---\n",
    "## 三、监管记录-数据预处理"
   ],
   "id": "485a4a9ec28df29c"
  },
  {
   "metadata": {
    "ExecuteTime": {
     "end_time": "2024-07-29T07:33:04.742089Z",
     "start_time": "2024-07-29T07:33:04.680966Z"
    }
   },
   "cell_type": "code",
   "source": [
    "df_monitor = pd.read_csv('../data/监管记录.csv')\n",
    "\n",
    "'''\n",
    "正则表达式:\n",
    "^       匹配字符串的开始;\n",
    "(?!...) 用于排除匹配的字符串;\n",
    ".*      匹配任意字符;\n",
    "Id      匹配 Id 结尾的字符串;\n",
    "'''\n",
    "df_exclude_id = df_monitor.filter(regex='^(?!.*Id$)')"
   ],
   "id": "c8107088bcccae98",
   "outputs": [],
   "execution_count": 71
  },
  {
   "metadata": {},
   "cell_type": "markdown",
   "source": "## 四、绘制 2D 数据点",
   "id": "d6c07de7c81c8221"
  },
  {
   "cell_type": "code",
   "id": "initial_id",
   "metadata": {
    "collapsed": true,
    "ExecuteTime": {
     "end_time": "2024-07-29T03:19:20.963041Z",
     "start_time": "2024-07-29T03:19:20.952831Z"
    }
   },
   "source": [
    "plt.style.use('_mpl-gallery')\n",
    "\n",
    "# make the data\n",
    "np.random.seed(3)\n",
    "x = df['basicFactData.dataValue.coursePeriod']  # dtypes: float64\n",
    "y = df['basicFactData.dataValue.timeLength'] / 1000  # dtypes: int64"
   ],
   "outputs": [],
   "execution_count": 19
  },
  {
   "metadata": {
    "ExecuteTime": {
     "end_time": "2024-07-29T03:19:22.528077Z",
     "start_time": "2024-07-29T03:19:22.507128Z"
    }
   },
   "cell_type": "code",
   "source": [
    "# size and color:\n",
    "sizes = np.random.uniform(15, 80, len(x))\n",
    "colors = np.random.uniform(15, 80, len(x))"
   ],
   "id": "60b920e020f5e0be",
   "outputs": [],
   "execution_count": 20
  },
  {
   "metadata": {
    "ExecuteTime": {
     "end_time": "2024-07-29T03:19:44.402680Z",
     "start_time": "2024-07-29T03:19:44.207648Z"
    }
   },
   "cell_type": "code",
   "source": [
    "# plot\n",
    "fig, ax = plt.subplots(nrows=1, ncols=1, figsize=(10, 10))\n",
    "\n",
    "ax.scatter(x, y, s=sizes, c=colors, vmin=0, vmax=100)\n",
    "\n",
    "plt.show()"
   ],
   "id": "fe2e02b680550192",
   "outputs": [
    {
     "data": {
      "text/plain": [
       "<Figure size 1000x1000 with 1 Axes>"
      ],
      "image/png": "[encoded data removed]"
     },
     "metadata": {},
     "output_type": "display_data"
    }
   ],
   "execution_count": 21
  }
 ],
 "metadata": {
  "kernelspec": {
   "display_name": "Python 3",
   "language": "python",
   "name": "python3"
  },
  "language_info": {
   "codemirror_mode": {
    "name": "ipython",
    "version": 2
   },
   "file_extension": ".py",
   "mimetype": "text/x-python",
   "name": "python",
   "nbconvert_exporter": "python",
   "pygments_lexer": "ipython2",
   "version": "2.7.6"
  }
 },
 "nbformat": 4,
 "nbformat_minor": 5
}
