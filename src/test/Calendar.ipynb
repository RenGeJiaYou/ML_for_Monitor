{
 "cells": [
  {
   "cell_type": "code",
   "id": "initial_id",
   "metadata": {
    "collapsed": true,
    "ExecuteTime": {
     "end_time": "2024-08-07T01:38:02.105078Z",
     "start_time": "2024-08-07T01:38:02.092081Z"
    }
   },
   "source": [
    "import datetime\n",
    "# 判断 2018年4月30号 是不是节假日\n",
    "from chinese_calendar import is_holiday, is_workday"
   ],
   "outputs": [],
   "execution_count": 1
  },
  {
   "metadata": {
    "ExecuteTime": {
     "end_time": "2024-08-07T01:41:41.297209Z",
     "start_time": "2024-08-07T01:41:41.274211Z"
    }
   },
   "cell_type": "code",
   "source": [
    "april_last = datetime.date(2024, 5, 1)\n",
    "is_holiday(april_last)"
   ],
   "id": "e3471e01f1b178a6",
   "outputs": [
    {
     "data": {
      "text/plain": [
       "True"
      ]
     },
     "execution_count": 7,
     "metadata": {},
     "output_type": "execute_result"
    }
   ],
   "execution_count": 7
  },
  {
   "metadata": {},
   "cell_type": "code",
   "outputs": [],
   "execution_count": null,
   "source": "",
   "id": "47f0bd6dde3b2329"
  }
 ],
 "metadata": {
  "kernelspec": {
   "display_name": "Python 3",
   "language": "python",
   "name": "python3"
  },
  "language_info": {
   "codemirror_mode": {
    "name": "ipython",
    "version": 2
   },
   "file_extension": ".py",
   "mimetype": "text/x-python",
   "name": "python",
   "nbconvert_exporter": "python",
   "pygments_lexer": "ipython2",
   "version": "2.7.6"
  }
 },
 "nbformat": 4,
 "nbformat_minor": 5
}
