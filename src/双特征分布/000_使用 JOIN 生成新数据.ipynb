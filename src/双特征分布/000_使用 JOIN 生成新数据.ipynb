{
 "cells": [
  {
   "cell_type": "code",
   "id": "initial_id",
   "metadata": {
    "collapsed": true,
    "ExecuteTime": {
     "end_time": "2024-08-02T02:49:32.854923Z",
     "start_time": "2024-08-02T02:49:30.430312Z"
    }
   },
   "source": [
    "import numpy as np\n",
    "import pandas as pd\n",
    "import matplotlib.pyplot as plt\n",
    "# 设置中文显示\n",
    "from pylab import mpl\n",
    "\n",
    "mpl.rcParams['font.sans-serif'] = ['Microsoft YaHei']  # 指定默认字体：解决plot不能显示中文问题\n",
    "mpl.rcParams['axes.unicode_minus'] = False  # 解决保存图像是负号'-'显示为方块的问题"
   ],
   "outputs": [],
   "execution_count": 1
  },
  {
   "metadata": {},
   "cell_type": "markdown",
   "source": [
    "# 读取两个数据集\n",
    "选择了 `所有学员的IP使用情况` 和 `所有学员的OPENID使用情况` 两个数据集,因为这两个数据集都包含了 `_id` 字段，可以通过 `_id` 字段将两个数据集连接起来。"
   ],
   "id": "24754264d50bfc68"
  },
  {
   "metadata": {
    "ExecuteTime": {
     "end_time": "2024-08-02T03:03:36.040330Z",
     "start_time": "2024-08-02T03:03:35.981306Z"
    }
   },
   "cell_type": "code",
   "source": [
    "f1 = '../../data/周一所获数据/所有学员的IP使用情况.csv'\n",
    "f2 = '../../data/周一所获数据/所有学员的OPENID使用情况.csv'\n",
    "\n",
    "df_ip = pd.read_csv(f1, dtype={'_id': 'string', 'ipCount': 'int'})\n",
    "df_openid = pd.read_csv(f2, dtype={'openIdCount': 'int64', 'openIds': 'string'})\n",
    "\n",
    "# 将 'ips' 字段转换为数组类型 \n",
    "df_ip['ips'] = df_ip['ips'].apply(lambda x: x.split(','))"
   ],
   "id": "ecce3c9cdd430d38",
   "outputs": [],
   "execution_count": 6
  },
  {
   "metadata": {
    "ExecuteTime": {
     "end_time": "2024-08-02T03:03:36.653251Z",
     "start_time": "2024-08-02T03:03:36.635078Z"
    }
   },
   "cell_type": "code",
   "source": [
    "# 查看数据\n",
    "df_ip.shape  # (11211, 3)\n",
    "df_openid.shape  # (11218, 3)"
   ],
   "id": "84af35fb11735ffc",
   "outputs": [
    {
     "data": {
      "text/plain": [
       "(11218, 3)"
      ]
     },
     "execution_count": 7,
     "metadata": {},
     "output_type": "execute_result"
    }
   ],
   "execution_count": 7
  },
  {
   "metadata": {},
   "cell_type": "markdown",
   "source": "# 按照 id 列连接两个数据集",
   "id": "22741706a0cc2b0d"
  },
  {
   "metadata": {
    "ExecuteTime": {
     "end_time": "2024-08-02T03:04:39.271548Z",
     "start_time": "2024-08-02T03:04:39.250545Z"
    }
   },
   "cell_type": "code",
   "source": "df = pd.merge(df_ip, df_openid, on='_id', how='inner')",
   "id": "8c926b7de7275ab",
   "outputs": [],
   "execution_count": 11
  },
  {
   "metadata": {},
   "cell_type": "markdown",
   "source": "只保留 `ipCount`, `openIdCount` 两列",
   "id": "ced7d07161885132"
  },
  {
   "metadata": {
    "ExecuteTime": {
     "end_time": "2024-08-02T03:35:09.528653Z",
     "start_time": "2024-08-02T03:35:09.488655Z"
    }
   },
   "cell_type": "code",
   "source": [
    "# 只保留 `ipCount`, `openIdCount` 两列.并保存为 csv 文件\n",
    "df = df[['_id', 'ipCount', 'openIdCount']]\n",
    "df.to_csv('./所有学员的IP和OPENID使用情况.csv', index=False)"
   ],
   "id": "b55c416a795d7adc",
   "outputs": [],
   "execution_count": 22
  },
  {
   "metadata": {
    "ExecuteTime": {
     "end_time": "2024-08-02T03:23:45.002695Z",
     "start_time": "2024-08-02T03:23:44.971670Z"
    }
   },
   "cell_type": "code",
   "source": [
    "df.shape\n",
    "df.head(100)"
   ],
   "id": "ee22bf2bc1dc567d",
   "outputs": [
    {
     "data": {
      "text/plain": [
       "                                 _id  ipCount  \\\n",
       "0   018f72e710a811ec8871b07b25146e9e       50   \n",
       "1   6f88968110c911ec8216b07b25146e9e       25   \n",
       "2   991036f110a911ec8871b07b25146e9e       25   \n",
       "3   8c94bab110a911ec8871b07b25146e9e       24   \n",
       "4   423d3e1210a911ec8871b07b25146e9e       21   \n",
       "..                               ...      ...   \n",
       "95  bb47779110a811ec8871b07b25146e9e        9   \n",
       "96  776da7808cf011edb6a3fa164011f743        9   \n",
       "97  9951743810a911ec8871b07b25146e9e        9   \n",
       "98  0b372a0067bc11ecb369fa164011f743        9   \n",
       "99  17e0975810a811ec8871b07b25146e9e        9   \n",
       "\n",
       "                                                  ips  openIdCount  \\\n",
       "0   [220.178.83.37, 220.178.4.215, 60.168.154.3, 1...            3   \n",
       "1   [112.32.176.159, 112.32.178.196, 112.32.181.98...            4   \n",
       "2   [36.113.65.177, 36.113.68.50, 36.113.115.169, ...            3   \n",
       "3   [36.161.67.80, 183.165.228.97, 114.103.68.21, ...            1   \n",
       "4   [36.7.131.45, 220.178.83.41, 220.178.83.45, 11...            1   \n",
       "..                                                ...          ...   \n",
       "95  [47.99.99.5, 36.33.4.66, 58.243.43.102, 36.33....            1   \n",
       "96  [36.62.132.57, 36.62.133.81, 36.62.133.164, 36...            1   \n",
       "97  [120.242.16.49, 47.104.203.201, 120.242.17.211...            1   \n",
       "98  [121.225.210.120, 180.111.186.236, 222.95.34.1...            1   \n",
       "99  [47.96.17.4, 183.167.184.29, 183.165.139.134, ...            1   \n",
       "\n",
       "                                              openIds  \n",
       "0   oR17p5bl9H52pGZ8ZSrR0GEHwd4k,oR17p5bwvhrRJgS9Q...  \n",
       "1   oR17p5Z8_6HzA_SwAlDl13CwhUyM,oR17p5cUgiRO5HPkz...  \n",
       "2   oR17p5Sghf_BeodRYKr1eKgRHSmk,oR17p5Ul72hZHCSCm...  \n",
       "3                        oR17p5c0ROkwFj9hVvDC73Ro_whc  \n",
       "4                        oR17p5To2ZvbXp_RQGS95qKMNM9c  \n",
       "..                                                ...  \n",
       "95                       oR17p5fUeN_lgG-26_eVzORuNAIs  \n",
       "96                       oR17p5QOdLkVjljZskwNkqE5Lk_s  \n",
       "97                       oR17p5dXB4isSq5uQF24ANIuh0Ss  \n",
       "98                       oR17p5Siy0iKqGPF5BOEIQ2rJerU  \n",
       "99                       oR17p5eQlq-bd6_EBf3OquUY78G0  \n",
       "\n",
       "[100 rows x 5 columns]"
      ],
      "text/html": [
       "<div>\n",
       "<style scoped>\n",
       "    .dataframe tbody tr th:only-of-type {\n",
       "        vertical-align: middle;\n",
       "    }\n",
       "\n",
       "    .dataframe tbody tr th {\n",
       "        vertical-align: top;\n",
       "    }\n",
       "\n",
       "    .dataframe thead th {\n",
       "        text-align: right;\n",
       "    }\n",
       "</style>\n",
       "<table border=\"1\" class=\"dataframe\">\n",
       "  <thead>\n",
       "    <tr style=\"text-align: right;\">\n",
       "      <th></th>\n",
       "      <th>_id</th>\n",
       "      <th>ipCount</th>\n",
       "      <th>ips</th>\n",
       "      <th>openIdCount</th>\n",
       "      <th>openIds</th>\n",
       "    </tr>\n",
       "  </thead>\n",
       "  <tbody>\n",
       "    <tr>\n",
       "      <th>0</th>\n",
       "      <td>018f72e710a811ec8871b07b25146e9e</td>\n",
       "      <td>50</td>\n",
       "      <td>[220.178.83.37, 220.178.4.215, 60.168.154.3, 1...</td>\n",
       "      <td>3</td>\n",
       "      <td>oR17p5bl9H52pGZ8ZSrR0GEHwd4k,oR17p5bwvhrRJgS9Q...</td>\n",
       "    </tr>\n",
       "    <tr>\n",
       "      <th>1</th>\n",
       "      <td>6f88968110c911ec8216b07b25146e9e</td>\n",
       "      <td>25</td>\n",
       "      <td>[112.32.176.159, 112.32.178.196, 112.32.181.98...</td>\n",
       "      <td>4</td>\n",
       "      <td>oR17p5Z8_6HzA_SwAlDl13CwhUyM,oR17p5cUgiRO5HPkz...</td>\n",
       "    </tr>\n",
       "    <tr>\n",
       "      <th>2</th>\n",
       "      <td>991036f110a911ec8871b07b25146e9e</td>\n",
       "      <td>25</td>\n",
       "      <td>[36.113.65.177, 36.113.68.50, 36.113.115.169, ...</td>\n",
       "      <td>3</td>\n",
       "      <td>oR17p5Sghf_BeodRYKr1eKgRHSmk,oR17p5Ul72hZHCSCm...</td>\n",
       "    </tr>\n",
       "    <tr>\n",
       "      <th>3</th>\n",
       "      <td>8c94bab110a911ec8871b07b25146e9e</td>\n",
       "      <td>24</td>\n",
       "      <td>[36.161.67.80, 183.165.228.97, 114.103.68.21, ...</td>\n",
       "      <td>1</td>\n",
       "      <td>oR17p5c0ROkwFj9hVvDC73Ro_whc</td>\n",
       "    </tr>\n",
       "    <tr>\n",
       "      <th>4</th>\n",
       "      <td>423d3e1210a911ec8871b07b25146e9e</td>\n",
       "      <td>21</td>\n",
       "      <td>[36.7.131.45, 220.178.83.41, 220.178.83.45, 11...</td>\n",
       "      <td>1</td>\n",
       "      <td>oR17p5To2ZvbXp_RQGS95qKMNM9c</td>\n",
       "    </tr>\n",
       "    <tr>\n",
       "      <th>...</th>\n",
       "      <td>...</td>\n",
       "      <td>...</td>\n",
       "      <td>...</td>\n",
       "      <td>...</td>\n",
       "      <td>...</td>\n",
       "    </tr>\n",
       "    <tr>\n",
       "      <th>95</th>\n",
       "      <td>bb47779110a811ec8871b07b25146e9e</td>\n",
       "      <td>9</td>\n",
       "      <td>[47.99.99.5, 36.33.4.66, 58.243.43.102, 36.33....</td>\n",
       "      <td>1</td>\n",
       "      <td>oR17p5fUeN_lgG-26_eVzORuNAIs</td>\n",
       "    </tr>\n",
       "    <tr>\n",
       "      <th>96</th>\n",
       "      <td>776da7808cf011edb6a3fa164011f743</td>\n",
       "      <td>9</td>\n",
       "      <td>[36.62.132.57, 36.62.133.81, 36.62.133.164, 36...</td>\n",
       "      <td>1</td>\n",
       "      <td>oR17p5QOdLkVjljZskwNkqE5Lk_s</td>\n",
       "    </tr>\n",
       "    <tr>\n",
       "      <th>97</th>\n",
       "      <td>9951743810a911ec8871b07b25146e9e</td>\n",
       "      <td>9</td>\n",
       "      <td>[120.242.16.49, 47.104.203.201, 120.242.17.211...</td>\n",
       "      <td>1</td>\n",
       "      <td>oR17p5dXB4isSq5uQF24ANIuh0Ss</td>\n",
       "    </tr>\n",
       "    <tr>\n",
       "      <th>98</th>\n",
       "      <td>0b372a0067bc11ecb369fa164011f743</td>\n",
       "      <td>9</td>\n",
       "      <td>[121.225.210.120, 180.111.186.236, 222.95.34.1...</td>\n",
       "      <td>1</td>\n",
       "      <td>oR17p5Siy0iKqGPF5BOEIQ2rJerU</td>\n",
       "    </tr>\n",
       "    <tr>\n",
       "      <th>99</th>\n",
       "      <td>17e0975810a811ec8871b07b25146e9e</td>\n",
       "      <td>9</td>\n",
       "      <td>[47.96.17.4, 183.167.184.29, 183.165.139.134, ...</td>\n",
       "      <td>1</td>\n",
       "      <td>oR17p5eQlq-bd6_EBf3OquUY78G0</td>\n",
       "    </tr>\n",
       "  </tbody>\n",
       "</table>\n",
       "<p>100 rows × 5 columns</p>\n",
       "</div>"
      ]
     },
     "execution_count": 16,
     "metadata": {},
     "output_type": "execute_result"
    }
   ],
   "execution_count": 16
  },
  {
   "metadata": {},
   "cell_type": "markdown",
   "source": "# 数据量纲不一致，需要对数据进行归一化处理",
   "id": "68fba4179bb3a68b"
  },
  {
   "metadata": {},
   "cell_type": "markdown",
   "source": "# 3. 绘制图表",
   "id": "64ce2e237b9bf68d"
  },
  {
   "metadata": {
    "ExecuteTime": {
     "end_time": "2024-08-02T03:05:30.234350Z",
     "start_time": "2024-08-02T03:05:30.225350Z"
    }
   },
   "cell_type": "code",
   "source": [
    "# 中文字体\n",
    "plt.rcParams['font.sans-serif'] = ['SimHei']  # 用来正常显示中文标签SimHei\n",
    "plt.rcParams['axes.unicode_minus'] = False  # 用来正常显示负号"
   ],
   "id": "1cc7e5e68e9b647f",
   "outputs": [],
   "execution_count": 13
  },
  {
   "metadata": {},
   "cell_type": "markdown",
   "source": "### (1) 按照 IP 数量和 OpenID 数量绘制散点图",
   "id": "c8d536cad47e7f49"
  },
  {
   "metadata": {
    "ExecuteTime": {
     "end_time": "2024-08-02T03:40:39.315378Z",
     "start_time": "2024-08-02T03:40:39.129132Z"
    }
   },
   "cell_type": "code",
   "source": [
    "# 要求图表中只有 1 行 1 列子图，并且设置图表的大小为 10 * 10\n",
    "fig, ax = plt.subplots(nrows=1, ncols=1, figsize=(10, 10))\n",
    "\n",
    "total_rows = df.shape[0]\n",
    "total_rows = 50\n",
    "\n",
    "# x 轴不需要打印每一条 id，只需要打印刻度\n",
    "ax.scatter(df.head(total_rows).ipCount,\n",
    "           df.head(total_rows).openIdCount,\n",
    "           s=2)\n",
    "\n",
    "# 设置标题\n",
    "ax.set_xlabel('该用户重复使用 IP 的个数')\n",
    "ax.set_ylabel('该用户重复使用 OpenID 的个数')\n",
    "\n",
    "# 设置 x 轴刻度\n",
    "# ticks = np.arange(0, total_rows, 1000)\n",
    "# labels = [f\"{df_grouped['latestEndTime'].iloc[t]}\" for t in ticks if t < total_rows] # 只打印几个时间戳作为刻度\n",
    "# plt.xticks(rotation=45,fontsize=8)\n",
    "\n",
    "# 设置 y 轴刻度精度\n",
    "# plt.yticks(np.arange(0, 100, 5))\n",
    "\n",
    "# plt.savefig('./imgs/所有学员的重复使用的 IP 个数和 OpenID 个数.png', dpi=800, bbox_inches='tight', pad_inches=1)\n",
    "plt.show()"
   ],
   "id": "3a0238e44739af2f",
   "outputs": [
    {
     "data": {
      "text/plain": [
       "<Figure size 1000x1000 with 1 Axes>"
      ],
      "image/png": "[encoded data removed]"
     },
     "metadata": {},
     "output_type": "display_data"
    }
   ],
   "execution_count": 29
  },
  {
   "metadata": {},
   "cell_type": "code",
   "outputs": [],
   "execution_count": null,
   "source": [
    "\n",
    "# Add a gridspec with two rows and two columns and a ratio of 1 to 4 between\n",
    "# the size of the marginal axes and the main axes in both directions.\n",
    "# Also adjust the subplot parameters for a square plot.\n",
    "gs = fig.add_gridspec(2, 2, width_ratios=(4, 1), height_ratios=(1, 4),\n",
    "                      left=0.1, right=0.9, bottom=0.1, top=0.9,\n",
    "                      wspace=0.05, hspace=0.05)\n",
    "# Create the Axes.\n",
    "ax = fig.add_subplot(gs[1, 0])\n",
    "ax_histx = fig.add_subplot(gs[0, 0], sharex=ax)\n",
    "ax_histy = fig.add_subplot(gs[1, 1], sharey=ax)\n",
    "# Draw the scatter plot and marginals.\n",
    "scatter_hist(x, y, ax, ax_histx, ax_histy)"
   ],
   "id": "696d2b4d4af36df3"
  }
 ],
 "metadata": {
  "kernelspec": {
   "display_name": "Python 3",
   "language": "python",
   "name": "python3"
  },
  "language_info": {
   "codemirror_mode": {
    "name": "ipython",
    "version": 2
   },
   "file_extension": ".py",
   "mimetype": "text/x-python",
   "name": "python",
   "nbconvert_exporter": "python",
   "pygments_lexer": "ipython2",
   "version": "2.7.6"
  }
 },
 "nbformat": 4,
 "nbformat_minor": 5
}
