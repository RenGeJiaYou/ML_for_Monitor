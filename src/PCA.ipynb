{
 "cells": [
  {
   "metadata": {},
   "cell_type": "markdown",
   "source": [
    "# PCA 的测试代码\n",
    "培训平台产生的学习监管数据有很多特征, 我们想要降维, 但是又不想丢失太多信息, 这时候就可以使用 PCA 来降维  \n",
    "https://blog.csdn.net/MoreAction_/article/details/107463336\n",
    "\n",
    "### PCA() 常用参数\n",
    "- `n_components`： 这个参数类型有 `int` 型，`float` 型，`string` 型，默认为 `None`，常用的设置有两种：\n",
    "若 `0<n_components<1`，则 `n_components` 的值为主成分方差的阈值； 通过设置该变量，即可调整主成分数量 `K`；\n",
    "若 `n_components≥1`，则降维后的特征数为 `n_components`；\n",
    "\n",
    "- `whiten`：参数为 `bool` 型，是否对降维后的数据的每个特征进行归一化，默认是 `False`。\n",
    "\n",
    "### 其它常用方法：\n",
    "- `fit(X,y=None)` ：用训练数据 X 训练模型，由于 PCA 是无监督降维，因此 y=None。\n",
    "- `transform(X,y=None)` ：训练好模型后，对输入数据 X 进行降维。\n",
    "- `fit_transform(X)`：用训练数据 X 训练模型，并对 X 进行降维。相当于先用 fit(X)，再用 transform(X)。\n",
    "- `inverse_transform(X)` ：将降维后的数据还原成原始数据的近似。(PCA 的重建)\n",
    "\n",
    "### PCA 对象常用属性：\n",
    "- `components`：array, shape (n_components, n_features) ，降维后各主成分方向，并按照各主成分的方差值大小排序。\n",
    "- `explained_variance`：array, shape (n_components,) ，降维后各主成分的方差值，方差值越大，越主要。\n",
    "- `explained_variance_ratio`：array, shape (n_components,) ，降维后的各主成分的方差值占总方差值的比例，比例越大，则越主要。"
   ],
   "id": "46c7cf38bfc895b"
  },
  {
   "cell_type": "code",
   "id": "initial_id",
   "metadata": {
    "collapsed": true,
    "ExecuteTime": {
     "end_time": "2024-07-26T02:19:26.175020Z",
     "start_time": "2024-07-26T02:19:25.436597Z"
    }
   },
   "source": [
    "import numpy as np\n",
    "from sklearn.decomposition import PCA"
   ],
   "outputs": [],
   "execution_count": 1
  },
  {
   "metadata": {},
   "cell_type": "markdown",
   "source": "### 1 生成数据",
   "id": "bdc7922693cd4d83"
  },
  {
   "metadata": {
    "ExecuteTime": {
     "end_time": "2024-07-26T02:20:21.543488Z",
     "start_time": "2024-07-26T02:20:21.539609Z"
    }
   },
   "cell_type": "code",
   "source": [
    "# 3 x 5 , 3维特征，5组数据\n",
    "data = np.array(\n",
    "    [[-1, -1, 0, 2, 1],\n",
    "     [2, 0, 0, -1, -1],\n",
    "     [2, 0, 1, 1, 0]], dtype=np.float64)\n",
    "k = 2"
   ],
   "id": "518434a5fdaa0276",
   "outputs": [],
   "execution_count": 3
  },
  {
   "metadata": {},
   "cell_type": "markdown",
   "source": "### 2 PCA 降维",
   "id": "66ef8e2485a60cc5"
  },
  {
   "metadata": {
    "ExecuteTime": {
     "end_time": "2024-07-26T02:21:20.274451Z",
     "start_time": "2024-07-26T02:21:20.270414Z"
    }
   },
   "cell_type": "code",
   "source": "pca = PCA(n_components=k)",
   "id": "25100561fc544d88",
   "outputs": [],
   "execution_count": 4
  },
  {
   "metadata": {},
   "cell_type": "markdown",
   "source": "### 3 转置",
   "id": "270eb2e9fea757fa"
  },
  {
   "metadata": {
    "ExecuteTime": {
     "end_time": "2024-07-26T02:22:30.611975Z",
     "start_time": "2024-07-26T02:22:30.574910Z"
    }
   },
   "cell_type": "code",
   "source": [
    "# 注意转置\n",
    "new_data = pca.fit_transform(data.T)\n",
    "# 降维后的数据各个维度特征 所占信息比例\n",
    "ratios = pca.explained_variance_ratio_"
   ],
   "id": "c4643fe5579b9472",
   "outputs": [],
   "execution_count": 5
  },
  {
   "metadata": {},
   "cell_type": "markdown",
   "source": "### 4 输出",
   "id": "5d4fc47a8523d17f"
  },
  {
   "metadata": {
    "ExecuteTime": {
     "end_time": "2024-07-26T02:24:10.354721Z",
     "start_time": "2024-07-26T02:24:10.350605Z"
    }
   },
   "cell_type": "code",
   "source": [
    "# 要求在 3 维数据中提取 2 维数据，所以输出的数据是 2 维的\n",
    "print(\"new_data: \\n\", new_data)\n",
    "print(\"ratios: \\n\", ratios)"
   ],
   "id": "329f8194050057c",
   "outputs": [
    {
     "name": "stdout",
     "output_type": "stream",
     "text": [
      "new_data: \n",
      " [[ 2.50856792 -0.76054613]\n",
      " [ 0.59089386  1.31546989]\n",
      " [ 0.19057608 -0.02787302]\n",
      " [-1.84517782 -0.93519683]\n",
      " [-1.44486004  0.40814608]]\n",
      "ratios: \n",
      " [0.7801724  0.21479774]\n"
     ]
    }
   ],
   "execution_count": 11
  },
  {
   "metadata": {},
   "cell_type": "code",
   "outputs": [],
   "execution_count": null,
   "source": "",
   "id": "f543e33153382841"
  }
 ],
 "metadata": {
  "kernelspec": {
   "display_name": "Python 3",
   "language": "python",
   "name": "python3"
  },
  "language_info": {
   "codemirror_mode": {
    "name": "ipython",
    "version": 2
   },
   "file_extension": ".py",
   "mimetype": "text/x-python",
   "name": "python",
   "nbconvert_exporter": "python",
   "pygments_lexer": "ipython2",
   "version": "2.7.6"
  }
 },
 "nbformat": 4,
 "nbformat_minor": 5
}
