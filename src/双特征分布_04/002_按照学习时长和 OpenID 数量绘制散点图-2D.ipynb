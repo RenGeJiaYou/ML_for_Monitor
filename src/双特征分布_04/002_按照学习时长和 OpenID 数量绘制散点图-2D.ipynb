{
 "cells": [
  {
   "cell_type": "code",
   "id": "initial_id",
   "metadata": {
    "collapsed": true,
    "ExecuteTime": {
     "end_time": "2024-08-05T03:30:44.072778Z",
     "start_time": "2024-08-05T03:30:44.053748Z"
    }
   },
   "source": [
    "import numpy as np\n",
    "import pandas as pd\n",
    "import matplotlib.pyplot as plt\n",
    "# 设置中文显示\n",
    "from pylab import mpl\n",
    "\n",
    "mpl.rcParams['font.sans-serif'] = ['Microsoft YaHei']  # 指定默认字体：解决plot不能显示中文问题\n",
    "mpl.rcParams['axes.unicode_minus'] = False  # 解决保存图像是负号'-'显示为方块的问题"
   ],
   "outputs": [],
   "execution_count": 85
  },
  {
   "metadata": {},
   "cell_type": "markdown",
   "source": [
    "# 一、读取数据集\n",
    "选择了**所有学员**的`学习总时长` 和 `OPENID使用情况` 两个数据集,  \n",
    "因为这两个数据集都包含了同样含义的 `_id` 字段，可以 join 两个数据集。"
   ],
   "id": "24754264d50bfc68"
  },
  {
   "metadata": {
    "ExecuteTime": {
     "end_time": "2024-08-05T03:30:45.451388Z",
     "start_time": "2024-08-05T03:30:45.400353Z"
    }
   },
   "cell_type": "code",
   "source": [
    "f1 = '../../data/周一所获数据/所有学员的学习总时长ms.csv'\n",
    "f2 = '../../data/周一所获数据/所有学员的OPENID使用情况.csv'\n",
    "\n",
    "df_duration = pd.read_csv(f1, dtype={'trainingPersonId': 'string', 'totalDuration': 'float64'})\n",
    "df_openid = pd.read_csv(f2, dtype={'openIdCount': 'int64', 'openIds': 'string'})"
   ],
   "id": "ecce3c9cdd430d38",
   "outputs": [],
   "execution_count": 86
  },
  {
   "metadata": {
    "ExecuteTime": {
     "end_time": "2024-08-05T03:30:46.036993Z",
     "start_time": "2024-08-05T03:30:46.019989Z"
    }
   },
   "cell_type": "code",
   "source": [
    "# 查看数据\n",
    "df_duration.shape  # (11330, 3)\n",
    "df_openid.shape  # (11218, 3)"
   ],
   "id": "84af35fb11735ffc",
   "outputs": [
    {
     "data": {
      "text/plain": [
       "(11218, 3)"
      ]
     },
     "execution_count": 87,
     "metadata": {},
     "output_type": "execute_result"
    }
   ],
   "execution_count": 87
  },
  {
   "metadata": {},
   "cell_type": "markdown",
   "source": "# 二、连接数据集",
   "id": "22741706a0cc2b0d"
  },
  {
   "metadata": {
    "ExecuteTime": {
     "end_time": "2024-08-05T03:30:47.265606Z",
     "start_time": "2024-08-05T03:30:47.232606Z"
    }
   },
   "cell_type": "code",
   "source": "df = pd.merge(left=df_duration, right=df_openid, left_on='trainingPersonId' ,right_on='_id', how='inner')",
   "id": "8c926b7de7275ab",
   "outputs": [],
   "execution_count": 88
  },
  {
   "metadata": {},
   "cell_type": "markdown",
   "source": [
    "# 三、提取特征并调整量纲\n",
    "### 1.只保留 `totalDuration`, `openIdCount` 两列特征"
   ],
   "id": "ced7d07161885132"
  },
  {
   "metadata": {
    "ExecuteTime": {
     "end_time": "2024-08-05T03:30:48.891974Z",
     "start_time": "2024-08-05T03:30:48.855941Z"
    }
   },
   "cell_type": "code",
   "source": [
    "# 只保留 `ipCount`, `openIdCount` 两列.并保存为 csv 文件\n",
    "df_features = df[['_id', 'totalDuration', 'openIdCount']]\n",
    "df_features.to_csv('./所有学员的学习总时长和OPENID使用情况.csv', index=False)"
   ],
   "id": "b55c416a795d7adc",
   "outputs": [],
   "execution_count": 89
  },
  {
   "metadata": {
    "ExecuteTime": {
     "end_time": "2024-08-05T03:30:49.657940Z",
     "start_time": "2024-08-05T03:30:49.636941Z"
    }
   },
   "cell_type": "code",
   "source": [
    "df_features.shape\n",
    "df_features.head(100)\n",
    "# df.types"
   ],
   "id": "ee22bf2bc1dc567d",
   "outputs": [
    {
     "data": {
      "text/plain": [
       "                                 _id  totalDuration  openIdCount\n",
       "0   911cd34f10a911ec8871b07b25146e9e      5426731.0            1\n",
       "1   010385a510a811ec8871b07b25146e9e      1944271.0            1\n",
       "2   a2e71c603b2411eeb806fa164011f743      7424480.0            1\n",
       "3   0e9589d4b40b11eebde5fa164011f743      1821062.0            1\n",
       "4   12320d4810a811ec8871b07b25146e9e      4994822.0            1\n",
       "..                               ...            ...          ...\n",
       "95  ee12ea2c10ab11ec8871b07b25146e9e      1355564.0            1\n",
       "96  d13522de10a711ec8871b07b25146e9e      8213185.0            1\n",
       "97  e8bb015f10a711ec8871b07b25146e9e     21264273.0            1\n",
       "98  f1736c35294c11efbde5fa164011f743     14696251.0            1\n",
       "99  83ebb40e10c111ec8216b07b25146e9e      2893352.0            1\n",
       "\n",
       "[100 rows x 3 columns]"
      ],
      "text/html": [
       "<div>\n",
       "<style scoped>\n",
       "    .dataframe tbody tr th:only-of-type {\n",
       "        vertical-align: middle;\n",
       "    }\n",
       "\n",
       "    .dataframe tbody tr th {\n",
       "        vertical-align: top;\n",
       "    }\n",
       "\n",
       "    .dataframe thead th {\n",
       "        text-align: right;\n",
       "    }\n",
       "</style>\n",
       "<table border=\"1\" class=\"dataframe\">\n",
       "  <thead>\n",
       "    <tr style=\"text-align: right;\">\n",
       "      <th></th>\n",
       "      <th>_id</th>\n",
       "      <th>totalDuration</th>\n",
       "      <th>openIdCount</th>\n",
       "    </tr>\n",
       "  </thead>\n",
       "  <tbody>\n",
       "    <tr>\n",
       "      <th>0</th>\n",
       "      <td>911cd34f10a911ec8871b07b25146e9e</td>\n",
       "      <td>5426731.0</td>\n",
       "      <td>1</td>\n",
       "    </tr>\n",
       "    <tr>\n",
       "      <th>1</th>\n",
       "      <td>010385a510a811ec8871b07b25146e9e</td>\n",
       "      <td>1944271.0</td>\n",
       "      <td>1</td>\n",
       "    </tr>\n",
       "    <tr>\n",
       "      <th>2</th>\n",
       "      <td>a2e71c603b2411eeb806fa164011f743</td>\n",
       "      <td>7424480.0</td>\n",
       "      <td>1</td>\n",
       "    </tr>\n",
       "    <tr>\n",
       "      <th>3</th>\n",
       "      <td>0e9589d4b40b11eebde5fa164011f743</td>\n",
       "      <td>1821062.0</td>\n",
       "      <td>1</td>\n",
       "    </tr>\n",
       "    <tr>\n",
       "      <th>4</th>\n",
       "      <td>12320d4810a811ec8871b07b25146e9e</td>\n",
       "      <td>4994822.0</td>\n",
       "      <td>1</td>\n",
       "    </tr>\n",
       "    <tr>\n",
       "      <th>...</th>\n",
       "      <td>...</td>\n",
       "      <td>...</td>\n",
       "      <td>...</td>\n",
       "    </tr>\n",
       "    <tr>\n",
       "      <th>95</th>\n",
       "      <td>ee12ea2c10ab11ec8871b07b25146e9e</td>\n",
       "      <td>1355564.0</td>\n",
       "      <td>1</td>\n",
       "    </tr>\n",
       "    <tr>\n",
       "      <th>96</th>\n",
       "      <td>d13522de10a711ec8871b07b25146e9e</td>\n",
       "      <td>8213185.0</td>\n",
       "      <td>1</td>\n",
       "    </tr>\n",
       "    <tr>\n",
       "      <th>97</th>\n",
       "      <td>e8bb015f10a711ec8871b07b25146e9e</td>\n",
       "      <td>21264273.0</td>\n",
       "      <td>1</td>\n",
       "    </tr>\n",
       "    <tr>\n",
       "      <th>98</th>\n",
       "      <td>f1736c35294c11efbde5fa164011f743</td>\n",
       "      <td>14696251.0</td>\n",
       "      <td>1</td>\n",
       "    </tr>\n",
       "    <tr>\n",
       "      <th>99</th>\n",
       "      <td>83ebb40e10c111ec8216b07b25146e9e</td>\n",
       "      <td>2893352.0</td>\n",
       "      <td>1</td>\n",
       "    </tr>\n",
       "  </tbody>\n",
       "</table>\n",
       "<p>100 rows × 3 columns</p>\n",
       "</div>"
      ]
     },
     "execution_count": 90,
     "metadata": {},
     "output_type": "execute_result"
    }
   ],
   "execution_count": 90
  },
  {
   "metadata": {},
   "cell_type": "markdown",
   "source": "### 2.数据量纲不一致，需要对数据进行归一化处理",
   "id": "68fba4179bb3a68b"
  },
  {
   "metadata": {
    "ExecuteTime": {
     "end_time": "2024-08-05T03:30:51.768444Z",
     "start_time": "2024-08-05T03:30:51.760445Z"
    }
   },
   "cell_type": "code",
   "source": "df_features['totalDuration'] = df_features['totalDuration'] / 1000 / 60 / 60  # 将 ms 转换为 hours",
   "id": "5e4e0437452a6cf6",
   "outputs": [
    {
     "name": "stderr",
     "output_type": "stream",
     "text": [
      "C:\\Users\\fjhb\\AppData\\Local\\Temp\\ipykernel_22280\\3987457371.py:1: SettingWithCopyWarning: \n",
      "A value is trying to be set on a copy of a slice from a DataFrame.\n",
      "Try using .loc[row_indexer,col_indexer] = value instead\n",
      "\n",
      "See the caveats in the documentation: https://pandas.pydata.org/pandas-docs/stable/user_guide/indexing.html#returning-a-view-versus-a-copy\n",
      "  df_features['totalDuration'] = df_features['totalDuration'] / 1000 / 60 / 60  # 将 ms 转换为 hours\n"
     ]
    }
   ],
   "execution_count": 91
  },
  {
   "metadata": {
    "ExecuteTime": {
     "end_time": "2024-08-05T03:30:58.901656Z",
     "start_time": "2024-08-05T03:30:58.886661Z"
    }
   },
   "cell_type": "code",
   "source": "df_features_sorted = df_features.sort_values(by='totalDuration', ascending=False, inplace=False)",
   "id": "e24fcda7c2b7dd19",
   "outputs": [],
   "execution_count": 92
  },
  {
   "metadata": {},
   "cell_type": "markdown",
   "source": "# 3. 绘制图表",
   "id": "64ce2e237b9bf68d"
  },
  {
   "metadata": {
    "ExecuteTime": {
     "end_time": "2024-08-05T03:31:05.374905Z",
     "start_time": "2024-08-05T03:31:05.361903Z"
    }
   },
   "cell_type": "code",
   "source": [
    "# 中文字体\n",
    "plt.rcParams['font.sans-serif'] = ['SimHei']  # 用来正常显示中文标签SimHei\n",
    "plt.rcParams['axes.unicode_minus'] = False  # 用来正常显示负号"
   ],
   "id": "1cc7e5e68e9b647f",
   "outputs": [],
   "execution_count": 93
  },
  {
   "metadata": {},
   "cell_type": "markdown",
   "source": "### (1) 按照 `学习时长` 和 `OpenID` 数量绘制散点图",
   "id": "c8d536cad47e7f49"
  },
  {
   "metadata": {
    "ExecuteTime": {
     "end_time": "2024-08-05T03:34:11.247495Z",
     "start_time": "2024-08-05T03:34:08.026193Z"
    }
   },
   "cell_type": "code",
   "source": [
    "# 要求图表中只有 1 行 1 列子图，并且设置图表的大小为 10 * 10\n",
    "fig, ax = plt.subplots(nrows=1, ncols=1, figsize=(10, 10))\n",
    "\n",
    "total_rows = df.shape[0]\n",
    "# total_rows = 50\n",
    "\n",
    "# x 轴不需要打印每一条 id，只需要打印刻度\n",
    "ax.scatter(df_features_sorted.head(total_rows).totalDuration,\n",
    "           df_features_sorted.head(total_rows).openIdCount,\n",
    "           s=1)\n",
    "\n",
    "\n",
    "\n",
    "# 设置标题\n",
    "ax.set_xlabel('该用户学习时长(小时)')\n",
    "ax.set_ylabel('该用户重复使用 OpenID 的个数')\n",
    "\n",
    "# 设置 x 轴刻度\n",
    "# ticks = np.arange(0, total_rows, 1000)\n",
    "# labels = [f\"{df_grouped['latestEndTime'].iloc[t]}\" for t in ticks if t < total_rows] # 只打印几个时间戳作为刻度\n",
    "# plt.xticks(rotation=45,fontsize=8)\n",
    "\n",
    "# 设置 y 轴刻度精度\n",
    "# plt.yticks(np.arange(0, 100, 5))\n",
    "\n",
    "plt.savefig('./imgs/2-1所有学员的学习分钟数和重复使用的 OpenID 个数.png', dpi=800, bbox_inches='tight', pad_inches=1)\n",
    "plt.show()"
   ],
   "id": "3a0238e44739af2f",
   "outputs": [
    {
     "data": {
      "text/plain": [
       "<Figure size 1000x1000 with 1 Axes>"
      ],
      "image/png": "[encoded data removed]"
     },
     "metadata": {},
     "output_type": "display_data"
    }
   ],
   "execution_count": 95
  },
  {
   "metadata": {},
   "cell_type": "markdown",
   "source": [
    "### 试试 seaborn 的绘图😋\n",
    "- `x`：指定 x 轴的数据列。\n",
    "- `y`：指定 y 轴的数据列。\n",
    "- `data`：指定数据源，通常是一个 DataFrame。\n",
    "- `kind`：指定图表类型，可以是 `'scatter'`（散点图）、`'reg'`（回归图）、`'resid'`（残差图）、`'kde'`（核密度估计图）或 `'hex'`（六边形图）。\n",
    "- `truncate`：布尔值，是否截断回归拟合的边界。\n",
    "- `xlim`：指定 x 轴的范围。\n",
    "- `ylim`：指定 y 轴的范围。\n",
    "- `color`：指定图表的颜色。\n",
    "- `height`：指定图表的高度（单位为英寸）。"
   ],
   "id": "58f6a2489b15cc35"
  },
  {
   "metadata": {
    "ExecuteTime": {
     "end_time": "2024-08-05T03:50:50.535459Z",
     "start_time": "2024-08-05T03:50:46.305243Z"
    }
   },
   "cell_type": "code",
   "source": [
    "import seaborn as sns\n",
    "sns.set_theme(style=\"whitegrid\")\n",
    "\n",
    "g = sns.jointplot(x=\"totalDuration\", y=\"openIdCount\", data=df_features_sorted,\n",
    "                  kind=\"reg\", truncate=False,\n",
    "                  xlim=(0, 500), ylim=(0, 10),\n",
    "                  color=\"m\", height=7)\n",
    "plt.savefig('./imgs/2-2所有学员的学习分钟数和重复使用的 OpenID 个数(seaborn).png', dpi=800, bbox_inches='tight', pad_inches=1)\n"
   ],
   "id": "ae5c1f999b70958",
   "outputs": [
    {
     "data": {
      "text/plain": [
       "<Figure size 700x700 with 3 Axes>"
      ],
      "image/png": "[encoded data removed]"
     },
     "metadata": {},
     "output_type": "display_data"
    }
   ],
   "execution_count": 108
  },
  {
   "metadata": {},
   "cell_type": "code",
   "outputs": [],
   "execution_count": null,
   "source": "",
   "id": "afb6f9d5261cc0eb"
  }
 ],
 "metadata": {
  "kernelspec": {
   "display_name": "Python 3",
   "language": "python",
   "name": "python3"
  },
  "language_info": {
   "codemirror_mode": {
    "name": "ipython",
    "version": 2
   },
   "file_extension": ".py",
   "mimetype": "text/x-python",
   "name": "python",
   "nbconvert_exporter": "python",
   "pygments_lexer": "ipython2",
   "version": "2.7.6"
  }
 },
 "nbformat": 4,
 "nbformat_minor": 5
}
